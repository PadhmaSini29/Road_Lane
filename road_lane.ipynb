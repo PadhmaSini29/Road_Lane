{
 "cells": [
  {
   "cell_type": "code",
   "execution_count": 1,
   "id": "67987fe3",
   "metadata": {},
   "outputs": [],
   "source": [
    "import cv2\n",
    "import numpy as np"
   ]
  },
  {
   "cell_type": "code",
   "execution_count": 2,
   "id": "b58d448f",
   "metadata": {},
   "outputs": [],
   "source": [
    "video = cv2.VideoCapture(\"C:/Users/lgspa/Downloads/lane/Ytube-rld-main/road_car_view.mp4\")"
   ]
  },
  {
   "cell_type": "code",
   "execution_count": 3,
   "id": "19f33c62",
   "metadata": {},
   "outputs": [],
   "source": [
    "while True:\n",
    "    ret, or_frame = video.read()\n",
    "\n",
    "    if not ret:\n",
    "        break\n",
    "\n",
    "    blurred_frame = cv2.GaussianBlur(or_frame, (5, 5), 0)\n",
    "    hsv = cv2.cvtColor(blurred_frame, cv2.COLOR_BGR2HSV)\n",
    "\n",
    "    lower_y = np.array([18, 94, 140])\n",
    "    upper_y = np.array([18, 255, 255])\n",
    "\n",
    "    mask = cv2.inRange(hsv, lower_y, upper_y)\n",
    "    edges = cv2.Canny(mask, 74, 150)\n",
    "    lines = cv2.HoughLinesP(edges, 1, np.pi / 180, 50, maxLineGap=50)\n",
    "\n",
    "    if lines is not None:\n",
    "        for line in lines:\n",
    "            x1, y1, x2, y2 = line[0]\n",
    "            cv2.line(or_frame, (x1, y1), (x2, y2), (0, 255, 0), 5)\n",
    "\n",
    "    cv2.imshow(\"frame\", or_frame)\n",
    "    cv2.imshow(\"edges\", edges)\n",
    "\n",
    "    key = cv2.waitKey(25)\n",
    "    if key == 27:\n",
    "        break"
   ]
  },
  {
   "cell_type": "code",
   "execution_count": 4,
   "id": "c885ad22",
   "metadata": {},
   "outputs": [],
   "source": [
    "video.release()\n",
    "cv2.destroyAllWindows()"
   ]
  },
  {
   "cell_type": "code",
   "execution_count": null,
   "id": "039e0d7a",
   "metadata": {},
   "outputs": [],
   "source": []
  }
 ],
 "metadata": {
  "kernelspec": {
   "display_name": "Python 3 (ipykernel)",
   "language": "python",
   "name": "python3"
  },
  "language_info": {
   "codemirror_mode": {
    "name": "ipython",
    "version": 3
   },
   "file_extension": ".py",
   "mimetype": "text/x-python",
   "name": "python",
   "nbconvert_exporter": "python",
   "pygments_lexer": "ipython3",
   "version": "3.9.13"
  }
 },
 "nbformat": 4,
 "nbformat_minor": 5
}
